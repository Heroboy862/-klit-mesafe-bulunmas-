{
 "cells": [
  {
   "cell_type": "code",
   "execution_count": 1,
   "id": "f3eed5d0-4e60-43f6-8207-15c35ff7da57",
   "metadata": {},
   "outputs": [
    {
     "name": "stdout",
     "output_type": "stream",
     "text": [
      "Minimum mesafe: 3.605551275463989\n"
     ]
    }
   ],
   "source": [
    "import math\n",
    "\n",
    "# 1. Noktaların Tanımlanması\n",
    "points = [(1, 2), (4, 6), (7, 1), (10, 3)]\n",
    "\n",
    "# 2. Öklid Mesafesi İçin Bir Fonksiyon Yazma\n",
    "def euclideanDistance(point1, point2):\n",
    "    x1, y1 = point1\n",
    "    x2, y2 = point2\n",
    "    return math.sqrt((x2 - x1) ** 2 + (y2 - y1) ** 2)\n",
    "\n",
    "# 3. Mesafelerin Hesaplanması\n",
    "distances = []\n",
    "for i in range(len(points)):\n",
    "    for j in range(i + 1, len(points)):\n",
    "        dist = euclideanDistance(points[i], points[j])\n",
    "        distances.append(dist)\n",
    "\n",
    "# 4. Minimum Mesafenin Bulunması\n",
    "min_distance = min(distances)\n",
    "print(f\"Minimum mesafe: {min_distance}\")\n"
   ]
  },
  {
   "cell_type": "code",
   "execution_count": null,
   "id": "386eee08-f6f1-4121-adea-7629ec4491ef",
   "metadata": {},
   "outputs": [],
   "source": []
  }
 ],
 "metadata": {
  "kernelspec": {
   "display_name": "Python 3 (ipykernel)",
   "language": "python",
   "name": "python3"
  },
  "language_info": {
   "codemirror_mode": {
    "name": "ipython",
    "version": 3
   },
   "file_extension": ".py",
   "mimetype": "text/x-python",
   "name": "python",
   "nbconvert_exporter": "python",
   "pygments_lexer": "ipython3",
   "version": "3.11.7"
  }
 },
 "nbformat": 4,
 "nbformat_minor": 5
}
